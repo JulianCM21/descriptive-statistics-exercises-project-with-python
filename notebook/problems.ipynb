{
    "cells": [
        {
            "cell_type": "markdown",
            "id": "ac622319",
            "metadata": {},
            "source": [
                "# Descriptive statistics problems"
            ]
        },
        {
            "cell_type": "markdown",
            "id": "5e0ab0d5",
            "metadata": {},
            "source": [
                "### Exercise 1\n",
                "\n",
                "We will use NumPy to obtain information to describe statistically.\n",
                "\n",
                "- Generate an array of 100 elements following a normal distribution.\n",
                "- Generate an array of 100 elements following a chi-square distribution with 3 degrees of freedom.\n",
                "- Calculate the main metrics and statistical measures that best describe the two vectors."
            ]
        },
        {
            "cell_type": "code",
            "execution_count": 2,
            "id": "34720ab6",
            "metadata": {},
            "outputs": [
                {
                    "name": "stdout",
                    "output_type": "stream",
                    "text": [
                        "[ 0.13468657  0.80936389 -0.83788027  1.38885344  0.52470971  0.22038796\n",
                        "  0.02915358 -1.43691757  0.00747274 -0.11207339 -0.54270126 -0.55241204\n",
                        " -0.39634226 -1.43169545 -0.28729092  0.99537032  0.19609637 -0.07764991\n",
                        "  0.23133521  0.67053711 -0.28164277  0.34748023 -0.04947394 -0.06213839\n",
                        " -0.19967426 -1.09411636  1.12193335  0.56087731 -2.24426056  1.73644922\n",
                        "  0.18428723 -0.27492329 -0.17607723 -1.16535801  0.02391983  0.10853402\n",
                        "  1.32236259 -0.34554971  1.12037313  0.4887372   0.77066028 -1.39908143\n",
                        "  0.45774793 -0.48481467 -0.55433307 -0.13138452  2.3775627  -0.29585677\n",
                        " -0.84430343 -1.20728484 -0.00735923 -0.70232434 -0.3309958   0.55191025\n",
                        " -1.49111252  0.50072121 -3.20040092  0.30905001  0.84123294 -0.03933539\n",
                        "  1.72188226  1.56310978  0.99906321 -0.91200342 -1.13728624  2.09909671\n",
                        "  0.47566183  2.53124224  0.37894243 -0.04724561  0.61387933  0.36914814\n",
                        " -0.05310851 -0.50163276  0.20069707 -0.71320293  0.04506203 -0.58249328\n",
                        " -0.61767594  0.6559317   0.43706403 -0.48796058 -1.42380915 -0.58090446\n",
                        " -0.11353917 -0.52284978  0.93171101 -0.73483114  0.4195063  -0.31033701\n",
                        "  0.32179355  0.95100124  0.3310316   0.22063398 -0.16315354  0.07560392\n",
                        "  0.14386009 -0.12571677  0.13872692 -1.19671468]\n",
                        "      Values\n",
                        "0   0.134687\n",
                        "1   0.809364\n",
                        "2  -0.837880\n",
                        "3   1.388853\n",
                        "4   0.524710\n",
                        "..       ...\n",
                        "95  0.075604\n",
                        "96  0.143860\n",
                        "97 -0.125717\n",
                        "98  0.138727\n",
                        "99 -1.196715\n",
                        "\n",
                        "[100 rows x 1 columns]\n",
                        "[ 5.19279958  1.40697679  2.08692251  4.63835423  1.06748287  3.02311992\n",
                        "  2.43273566  1.02576941  4.00439558  5.30107599  4.68899824  0.5058559\n",
                        "  3.61813373  0.79447013  2.36236842  6.29616139  0.49158836  1.54994136\n",
                        "  3.36526077  3.34450707  0.82020618  2.12046117  1.40245784  1.60934504\n",
                        "  0.88175803  1.90018295  5.31491198  7.40200944  5.04773301  1.79000948\n",
                        "  1.00517196  1.47652958  7.51973909  3.1167071   0.12053863  0.91876484\n",
                        "  0.1098497   2.45520189  7.2074573   8.50787291  4.99968633  2.0423633\n",
                        "  0.42462363  0.92474515  3.26171414  4.59704006  3.22882403  1.60630684\n",
                        "  1.91380641  0.19384468  1.33107028  2.25324608  5.17830332  2.46837651\n",
                        "  0.36415647  6.63607672  1.70118443  6.9482768   0.15391512  0.29548573\n",
                        " 11.79116189  3.33587708  1.95001577  2.52488869  0.32529216  6.47144734\n",
                        "  6.13062766  4.10625174  3.32150899  1.95915319  2.26439454  1.12339667\n",
                        "  5.19574348  6.93554714  1.97155276  0.33314998  0.63444926  0.87543864\n",
                        "  2.21624262  0.91889028  1.53285593  2.42112941  2.53812882  2.2581318\n",
                        "  1.0355008   3.36613116  0.17581203  9.77425337  3.87701554  0.69803089\n",
                        "  1.22921358  7.80623806  1.90263664  0.4163738   3.93570351  7.48847209\n",
                        "  4.57056058  0.02124559  2.28922     3.58054043]\n",
                        "      Values\n",
                        "0   5.192800\n",
                        "1   1.406977\n",
                        "2   2.086923\n",
                        "3   4.638354\n",
                        "4   1.067483\n",
                        "..       ...\n",
                        "95  7.488472\n",
                        "96  4.570561\n",
                        "97  0.021246\n",
                        "98  2.289220\n",
                        "99  3.580540\n",
                        "\n",
                        "[100 rows x 1 columns]\n"
                    ]
                }
            ],
            "source": [
                "# TODO\n",
                "import numpy as np\n",
                "import random\n",
                "import pandas as pd\n",
                "from scipy.stats import chisquare\n",
                "import statistics as stats\n",
                "\n",
                "data_normalized = np.random.normal(loc = 0, scale = 1, size = 100 )\n",
                "df = pd.DataFrame(data_normalized)\n",
                "df.columns = [\"Values\"]\n",
                "\n",
                "data_chi= np.random.chisquare(df = 3, size = 100)\n",
                "df2 = pd.DataFrame(data_chi)\n",
                "df2.columns = [\"Values\"]\n",
                "\n",
                "print(data_normalized)\n",
                "print(df)\n",
                "print(data_chi)\n",
                "print(df2)\n",
                "\n",
                "\n"
            ]
        },
        {
            "cell_type": "markdown",
            "id": "90d6ecc7",
            "metadata": {},
            "source": [
                " # Measures Of Central Tendency"
            ]
        },
        {
            "cell_type": "code",
            "execution_count": 11,
            "id": "97f73c32",
            "metadata": {},
            "outputs": [
                {
                    "name": "stdout",
                    "output_type": "stream",
                    "text": [
                        "Mean Normalized Data: 0.0797437202169556\n",
                        "Mean Chi-Square Data: 3.225324521960908\n",
                        "Mode Normalized Data: 0.03837397180122552\n",
                        "Mode Chi-Square Data:  1.258884103129827\n",
                        "Median Normalized Data: -0.005698713122961196\n",
                        "Median Chi-Square Data:  2.5085537441874393\n"
                    ]
                }
            ],
            "source": [
                "#MEAN\n",
                "mean_normalized = stats.mean(data_normalized)\n",
                "print(f\"Mean Normalized Data: {mean_normalized}\")\n",
                "mean_chi = stats.mean(data_chi)\n",
                "print(f\"Mean Chi-Square Data: {mean_chi}\")\n",
                "\n",
                "#MODE\n",
                "mode_normalized = stats.mode(data_normalized)\n",
                "print(f\"Mode Normalized Data: {mode_normalized}\")\n",
                "mode_chi = stats.mode(data_chi)\n",
                "print(f\"Mode Chi-Square Data:  {mode_chi}\")\n",
                "\n",
                "#MEDIAN\n",
                "median_normalized = stats.median(data_normalized)\n",
                "print(f\"Median Normalized Data: {median_normalized}\")\n",
                "median_chi = stats.median(data_chi)\n",
                "print(f\"Median Chi-Square Data:  {median_chi}\")"
            ]
        },
        {
            "cell_type": "markdown",
            "id": "5cc2b40b",
            "metadata": {},
            "source": [
                " # Measures Of Dispersion"
            ]
        },
        {
            "cell_type": "code",
            "execution_count": 4,
            "id": "f5841317",
            "metadata": {},
            "outputs": [
                {
                    "name": "stdout",
                    "output_type": "stream",
                    "text": [
                        "Range Normalized: 5.731643159737946\n",
                        "Range Chi-Squared: 11.769916297936366\n",
                        "Variance: 0.8217691222985654\n",
                        "Standard deviation: 0.9065148218857568\n",
                        "Variance: 5.900153625635439\n",
                        "Standard deviation: 2.4290231834289764\n"
                    ]
                }
            ],
            "source": [
                "#RANGE\n",
                "range_normalized = max(data_normalized) - min(data_normalized)\n",
                "range_chi = max(data_chi) - min(data_chi)\n",
                "print(f\"Range Normalized: {range_normalized}\")\n",
                "print(f\"Range Chi-Squared: {range_chi}\")\n",
                "\n",
                "#VARIANCE + STDV\n",
                "variance_normalized = stats.variance(data_normalized)\n",
                "std_normalized = stats.stdev(data_normalized)\n",
                "print(f\"Variance: {variance_normalized}\")\n",
                "print(f\"Standard deviation: {std_normalized}\")\n",
                "variance_chi = stats.variance(data_chi)\n",
                "std_chi = stats.stdev(data_chi)\n",
                "print(f\"Variance: {variance_chi}\")\n",
                "print(f\"Standard deviation: {std_chi}\")"
            ]
        },
        {
            "cell_type": "code",
            "execution_count": 5,
            "id": "2391a3ce",
            "metadata": {},
            "outputs": [
                {
                    "name": "stdout",
                    "output_type": "stream",
                    "text": [
                        "Normal skewness: -0.08545118411331167\n",
                        "Chi skewness: 1.1545651577263156\n"
                    ]
                }
            ],
            "source": [
                "#Skewness\n",
                "from scipy.stats import skew\n",
                "\n",
                "skewness_normalized = skew(data_normalized)\n",
                "skewness_chi = skew(data_chi)\n",
                "print(f\"Normal skewness: {skewness_normalized}\")\n",
                "print(f\"Chi skewness: {skewness_chi}\")"
            ]
        },
        {
            "cell_type": "code",
            "execution_count": 6,
            "id": "282f143a",
            "metadata": {},
            "outputs": [
                {
                    "name": "stdout",
                    "output_type": "stream",
                    "text": [
                        "Normal skewness: 1.4824593277983693\n",
                        "Chi skewness: 1.0358657157032525\n"
                    ]
                }
            ],
            "source": [
                "#Kurtosis\n",
                "from scipy.stats import kurtosis\n",
                "\n",
                "kurt_normalized = kurtosis(data_normalized)\n",
                "kurt_chi = kurtosis(data_chi)\n",
                "print(f\"Normal skewness: {kurt_normalized}\")\n",
                "print(f\"Chi skewness: {kurt_chi}\")\n"
            ]
        },
        {
            "cell_type": "markdown",
            "id": "46c70c3d",
            "metadata": {},
            "source": [
                "### Exercise 2\n",
                "\n",
                "Write a Python program to calculate the standard deviation of the following data:\n",
                "\n",
                "```py\n",
                "data = [4, 2, 5, 8, 6]\n",
                "```"
            ]
        },
        {
            "cell_type": "code",
            "execution_count": 19,
            "id": "d590308e",
            "metadata": {},
            "outputs": [
                {
                    "name": "stdout",
                    "output_type": "stream",
                    "text": [
                        "Poblational Standard Deviation: 2.0\n",
                        "Sample Standard Devuation: 1.7320508075688772\n"
                    ]
                }
            ],
            "source": [
                "import math\n",
                "import numpy as np\n",
                "\n",
                "# TODO\n",
                "#Dataset\n",
                "data = [4, 2, 5, 8, 6]\n",
                "\n",
                "def deviation(dataset):\n",
                "    #find the mean of dataset\n",
                "    mean = sum(dataset) / len(dataset)\n",
                "    \n",
                "    #calculating population standard deviation of the dataset\n",
                "    deviation_sum = 0\n",
                "    for i in range(len(dataset)):\n",
                "        deviation_sum+=(dataset[i]- mean)**2\n",
                "        psd = math.sqrt((deviation_sum)/len(dataset))\n",
                "\n",
                "#calculating sample standard deviation of the dataset\n",
                "    ssd = math.sqrt((deviation_sum)/len(dataset) - 1)\n",
                "    return psd, ssd\n",
                "\n",
                "#print results\n",
                "psd, ssd = deviation(data)\n",
                "print(f\"Poblational Standard Deviation: {psd}\")\n",
                "print(f\"Sample Standard Devuation: {ssd}\")\n"
            ]
        }
    ],
    "metadata": {
        "interpreter": {
            "hash": "9248718ffe6ce6938b217e69dbcc175ea21f4c6b28a317e96c05334edae734bb"
        },
        "kernelspec": {
            "display_name": "Python 3.9.12 ('ML-BOOTCAMP')",
            "language": "python",
            "name": "python3"
        },
        "language_info": {
            "codemirror_mode": {
                "name": "ipython",
                "version": 3
            },
            "file_extension": ".py",
            "mimetype": "text/x-python",
            "name": "python",
            "nbconvert_exporter": "python",
            "pygments_lexer": "ipython3",
            "version": "3.11.4"
        }
    },
    "nbformat": 4,
    "nbformat_minor": 5
}
